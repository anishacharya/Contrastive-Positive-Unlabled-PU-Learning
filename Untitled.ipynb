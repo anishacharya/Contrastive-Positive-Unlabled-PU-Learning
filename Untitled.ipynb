{
 "cells": [
  {
   "cell_type": "code",
   "execution_count": 26,
   "id": "f88a907a",
   "metadata": {},
   "outputs": [],
   "source": [
    "from torchvision.datasets import ImageFolder\n",
    "import torchvision.transforms as transforms\n",
    "from torch.utils.data import Dataset, DataLoader\n",
    "import os\n",
    "from fastai.vision.all import untar_data, URLs\n",
    "import matplotlib.pyplot as plt\n",
    "from PIL import Image\n",
    "import numpy as np\n",
    "\n",
    "class CombinedDataset(Dataset):\n",
    "    def __init__(self, transform=None):\n",
    "        # Download and extract the Imagenette and Imagewoof datasets\n",
    "        path_imagenette = untar_data(URLs.IMAGENETTE)\n",
    "        path_imagewoof = untar_data(URLs.IMAGEWOOF)\n",
    "        # Load both datasets\n",
    "        self.dataset_imagenette = ImageFolder(root=path_imagenette, transform=transform)\n",
    "        self.dataset_imagewoof = ImageFolder(root=path_imagewoof, transform=transform)\n",
    "\n",
    "        # Combine the datasets and assign binary labels\n",
    "        self.data = self.dataset_imagenette.samples + self.dataset_imagewoof.samples\n",
    "        self.targets = [0] * len(self.dataset_imagenette.samples) + [1] * len(self.dataset_imagewoof.samples)\n",
    "\n",
    "    def __len__(self):\n",
    "        return len(self.data)\n",
    "\n",
    "    def __getitem__(self, idx):\n",
    "        img_path, _ = self.data[idx]\n",
    "        label = self.targets[idx]\n",
    "        img = Image.open(img_path).convert('RGB')\n",
    "        if self.dataset_imagenette.transform is not None:\n",
    "            img = self.dataset_imagenette.transform(img)\n",
    "        return img, label\n"
   ]
  },
  {
   "cell_type": "code",
   "execution_count": 32,
   "id": "89435ada",
   "metadata": {},
   "outputs": [
    {
     "ename": "TypeError",
     "evalue": "only integer scalar arrays can be converted to a scalar index",
     "output_type": "error",
     "traceback": [
      "\u001b[0;31m---------------------------------------------------------------------------\u001b[0m",
      "\u001b[0;31mTypeError\u001b[0m                                 Traceback (most recent call last)",
      "Cell \u001b[0;32mIn[32], line 35\u001b[0m\n\u001b[1;32m     18\u001b[0m n_data_idx \u001b[38;5;241m=\u001b[39m np\u001b[38;5;241m.\u001b[39mwhere(np\u001b[38;5;241m.\u001b[39misin(targets, neg_class) \u001b[38;5;28;01mif\u001b[39;00m neg_class \n\u001b[1;32m     19\u001b[0m                       \u001b[38;5;28;01melse\u001b[39;00m np\u001b[38;5;241m.\u001b[39misin(targets, pos_class, invert\u001b[38;5;241m=\u001b[39m\u001b[38;5;28;01mTrue\u001b[39;00m))[\u001b[38;5;241m0\u001b[39m]\n\u001b[1;32m     20\u001b[0m \u001b[38;5;66;03m# # Function to display images with their combined labels\u001b[39;00m\n\u001b[1;32m     21\u001b[0m \u001b[38;5;66;03m# def show_combined_images(dataset, num_images=5):\u001b[39;00m\n\u001b[1;32m     22\u001b[0m \u001b[38;5;66;03m#     fig, axes = plt.subplots(1, num_images, figsize=(15, 3))\u001b[39;00m\n\u001b[0;32m   (...)\u001b[0m\n\u001b[1;32m     33\u001b[0m \u001b[38;5;66;03m# # Create a DataLoader\u001b[39;00m\n\u001b[1;32m     34\u001b[0m \u001b[38;5;66;03m# loader = DataLoader(combined_dataset, batch_size=32, shuffle=True)\u001b[39;00m\n\u001b[0;32m---> 35\u001b[0m p_data \u001b[38;5;241m=\u001b[39m \u001b[43mfeatures\u001b[49m\u001b[43m[\u001b[49m\u001b[43mp_data_idx\u001b[49m\u001b[43m]\u001b[49m\n",
      "\u001b[0;31mTypeError\u001b[0m: only integer scalar arrays can be converted to a scalar index"
     ]
    }
   ],
   "source": [
    "# Define transformations\n",
    "transform = transforms.Compose([\n",
    "    transforms.Resize((256, 256)),\n",
    "    transforms.ToTensor(),\n",
    "])\n",
    "\n",
    "# Create an instance of your combined dataset\n",
    "combined_dataset = CombinedDataset(\n",
    "    transform=transform\n",
    ")\n",
    "\n",
    "# # Function to display images with their combined labels\n",
    "# def show_combined_images(dataset, num_images=5):\n",
    "#     fig, axes = plt.subplots(1, num_images, figsize=(15, 3))\n",
    "#     for i, ax in enumerate(axes):\n",
    "#         img, label = dataset[i]\n",
    "#         ax.imshow(img.permute(1, 2, 0))  # Convert from (C, H, W) to (H, W, C)\n",
    "#         ax.axis('off')\n",
    "#         ax.set_title(f'Label: {label}')\n",
    "#     plt.show()\n",
    "\n",
    "# # Display some images from the combined dataset\n",
    "# show_combined_images(combined_dataset)\n",
    "\n",
    "# # Create a DataLoader\n",
    "# loader = DataLoader(combined_dataset, batch_size=32, shuffle=True)\n",
    "\n",
    "features = combined_dataset.data\n",
    "targets = combined_dataset.targets\n",
    "\n",
    "pos_class = [1]\n",
    "neg_class = [0]\n",
    "p_data_idx = np.where(np.isin(targets, pos_class))[0]\n",
    "n_data_idx = np.where(np.isin(targets, neg_class) if neg_class \n",
    "                      else np.isin(targets, pos_class, invert=True))[0]\n",
    "\n",
    "p_data = features[p_data_idx]"
   ]
  },
  {
   "cell_type": "code",
   "execution_count": 31,
   "id": "ab70a38c",
   "metadata": {},
   "outputs": [
    {
     "data": {
      "text/plain": [
       "array([    0,     1,     2, ..., 13391, 13392, 13393])"
      ]
     },
     "execution_count": 31,
     "metadata": {},
     "output_type": "execute_result"
    }
   ],
   "source": [
    "# p_data_idx\n",
    "n_data_idx"
   ]
  },
  {
   "cell_type": "code",
   "execution_count": null,
   "id": "be5f962c",
   "metadata": {},
   "outputs": [],
   "source": []
  }
 ],
 "metadata": {
  "kernelspec": {
   "display_name": "Python 3 (ipykernel)",
   "language": "python",
   "name": "python3"
  },
  "language_info": {
   "codemirror_mode": {
    "name": "ipython",
    "version": 3
   },
   "file_extension": ".py",
   "mimetype": "text/x-python",
   "name": "python",
   "nbconvert_exporter": "python",
   "pygments_lexer": "ipython3",
   "version": "3.11.5"
  }
 },
 "nbformat": 4,
 "nbformat_minor": 5
}
