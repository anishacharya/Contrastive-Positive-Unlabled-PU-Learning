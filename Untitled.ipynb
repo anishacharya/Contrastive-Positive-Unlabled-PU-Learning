{
 "cells": [
  {
   "cell_type": "code",
   "execution_count": 5,
   "id": "e949a0e1",
   "metadata": {},
   "outputs": [
    {
     "data": {
      "text/html": [
       "\n",
       "<style>\n",
       "    /* Turns off some styling */\n",
       "    progress {\n",
       "        /* gets rid of default border in Firefox and Opera. */\n",
       "        border: none;\n",
       "        /* Needs to be in here for Safari polyfill so background images work as expected. */\n",
       "        background-size: auto;\n",
       "    }\n",
       "    progress:not([value]), progress:not([value])::-webkit-progress-bar {\n",
       "        background: repeating-linear-gradient(45deg, #7e7e7e, #7e7e7e 10px, #5c5c5c 10px, #5c5c5c 20px);\n",
       "    }\n",
       "    .progress-bar-interrupted, .progress-bar-interrupted::-webkit-progress-bar {\n",
       "        background: #F44336;\n",
       "    }\n",
       "</style>\n"
      ],
      "text/plain": [
       "<IPython.core.display.HTML object>"
      ]
     },
     "metadata": {},
     "output_type": "display_data"
    },
    {
     "data": {
      "text/html": [
       "\n",
       "    <div>\n",
       "      <progress value='1557168128' class='' max='1557161267' style='width:300px; height:20px; vertical-align: middle;'></progress>\n",
       "      100.00% [1557168128/1557161267 04:02&lt;00:00]\n",
       "    </div>\n",
       "    "
      ],
      "text/plain": [
       "<IPython.core.display.HTML object>"
      ]
     },
     "metadata": {},
     "output_type": "display_data"
    },
    {
     "data": {
      "text/html": [
       "\n",
       "<style>\n",
       "    /* Turns off some styling */\n",
       "    progress {\n",
       "        /* gets rid of default border in Firefox and Opera. */\n",
       "        border: none;\n",
       "        /* Needs to be in here for Safari polyfill so background images work as expected. */\n",
       "        background-size: auto;\n",
       "    }\n",
       "    progress:not([value]), progress:not([value])::-webkit-progress-bar {\n",
       "        background: repeating-linear-gradient(45deg, #7e7e7e, #7e7e7e 10px, #5c5c5c 10px, #5c5c5c 20px);\n",
       "    }\n",
       "    .progress-bar-interrupted, .progress-bar-interrupted::-webkit-progress-bar {\n",
       "        background: #F44336;\n",
       "    }\n",
       "</style>\n"
      ],
      "text/plain": [
       "<IPython.core.display.HTML object>"
      ]
     },
     "metadata": {},
     "output_type": "display_data"
    },
    {
     "data": {
      "text/html": [
       "\n",
       "    <div>\n",
       "      <progress value='1343717376' class='' max='1343715595' style='width:300px; height:20px; vertical-align: middle;'></progress>\n",
       "      100.00% [1343717376/1343715595 03:41&lt;00:00]\n",
       "    </div>\n",
       "    "
      ],
      "text/plain": [
       "<IPython.core.display.HTML object>"
      ]
     },
     "metadata": {},
     "output_type": "display_data"
    }
   ],
   "source": [
    "from fastai.vision.all import untar_data, URLs\n",
    "\n",
    "# Download and extract the Imagenette and Imagewoof datasets\n",
    "path_imagenette = untar_data(URLs.IMAGENETTE)\n",
    "path_imagewoof = untar_data(URLs.IMAGEWOOF)"
   ]
  },
  {
   "cell_type": "code",
   "execution_count": 6,
   "id": "f88a907a",
   "metadata": {},
   "outputs": [],
   "source": [
    "from torchvision.datasets import ImageFolder\n",
    "import torchvision.transforms as transforms\n",
    "from torch.utils.data import Dataset, DataLoader\n",
    "import os\n",
    "\n",
    "class CombinedDataset(Dataset):\n",
    "    def __init__(self, root_imagenette, root_imagewoof, transform=None):\n",
    "        # Load both datasets\n",
    "        self.dataset_imagenette = ImageFolder(root=root_imagenette, transform=transform)\n",
    "        self.dataset_imagewoof = ImageFolder(root=root_imagewoof, transform=transform)\n",
    "\n",
    "        # Combine the datasets and assign binary labels\n",
    "        self.data = self.dataset_imagenette.samples + self.dataset_imagewoof.samples\n",
    "        self.targets = [0] * len(self.dataset_imagenette.samples) + [1] * len(self.dataset_imagewoof.samples)\n",
    "\n",
    "    def __len__(self):\n",
    "        return len(self.data)\n",
    "\n",
    "    def __getitem__(self, idx):\n",
    "        img_path, _ = self.data[idx]\n",
    "        label = self.targets[idx]\n",
    "        img = Image.open(img_path).convert('RGB')\n",
    "        if self.dataset_imagenette.transform is not None:\n",
    "            img = self.dataset_imagenette.transform(img)\n",
    "        return img, label\n"
   ]
  },
  {
   "cell_type": "code",
   "execution_count": 7,
   "id": "89435ada",
   "metadata": {},
   "outputs": [],
   "source": [
    "# Define transformations\n",
    "transform = transforms.Compose([\n",
    "    transforms.Resize((256, 256)),\n",
    "    transforms.ToTensor(),\n",
    "])\n",
    "\n",
    "# Create an instance of your combined dataset\n",
    "combined_dataset = CombinedDataset(\n",
    "    root_imagenette=os.path.join(path_imagenette, 'train'), \n",
    "    root_imagewoof=os.path.join(path_imagewoof, 'train'),\n",
    "    transform=transform\n",
    ")\n",
    "\n",
    "# Create a DataLoader\n",
    "loader = DataLoader(combined_dataset, batch_size=32, shuffle=True)\n"
   ]
  },
  {
   "cell_type": "code",
   "execution_count": null,
   "id": "ab70a38c",
   "metadata": {},
   "outputs": [],
   "source": []
  }
 ],
 "metadata": {
  "kernelspec": {
   "display_name": "Python 3 (ipykernel)",
   "language": "python",
   "name": "python3"
  },
  "language_info": {
   "codemirror_mode": {
    "name": "ipython",
    "version": 3
   },
   "file_extension": ".py",
   "mimetype": "text/x-python",
   "name": "python",
   "nbconvert_exporter": "python",
   "pygments_lexer": "ipython3",
   "version": "3.11.5"
  }
 },
 "nbformat": 4,
 "nbformat_minor": 5
}
