{
 "cells": [
  {
   "cell_type": "code",
   "execution_count": 9,
   "id": "f88a907a",
   "metadata": {},
   "outputs": [],
   "source": [
    "from torchvision.datasets import ImageFolder\n",
    "import torchvision.transforms as transforms\n",
    "from torch.utils.data import Dataset, DataLoader\n",
    "import os\n",
    "from fastai.vision.all import untar_data, URLs\n",
    "import matplotlib.pyplot as plt\n",
    "from PIL import Image\n",
    "\n",
    "class CombinedDataset(Dataset):\n",
    "    def __init__(self, transform=None):\n",
    "        # Download and extract the Imagenette and Imagewoof datasets\n",
    "        path_imagenette = untar_data(URLs.IMAGENETTE)\n",
    "        path_imagewoof = untar_data(URLs.IMAGEWOOF)\n",
    "        # Load both datasets\n",
    "        self.dataset_imagenette = ImageFolder(root=path_imagenette, transform=transform)\n",
    "        self.dataset_imagewoof = ImageFolder(root=path_imagewoof, transform=transform)\n",
    "\n",
    "        # Combine the datasets and assign binary labels\n",
    "        self.data = self.dataset_imagenette.samples + self.dataset_imagewoof.samples\n",
    "        self.targets = [0] * len(self.dataset_imagenette.samples) + [1] * len(self.dataset_imagewoof.samples)\n",
    "\n",
    "    def __len__(self):\n",
    "        return len(self.data)\n",
    "\n",
    "    def __getitem__(self, idx):\n",
    "        img_path, _ = self.data[idx]\n",
    "        label = self.targets[idx]\n",
    "        img = Image.open(img_path).convert('RGB')\n",
    "        if self.dataset_imagenette.transform is not None:\n",
    "            img = self.dataset_imagenette.transform(img)\n",
    "        return img, label\n"
   ]
  },
  {
   "cell_type": "code",
   "execution_count": null,
   "id": "89435ada",
   "metadata": {},
   "outputs": [],
   "source": [
    "# Define transformations\n",
    "transform = transforms.Compose([\n",
    "    transforms.Resize((256, 256)),\n",
    "    transforms.ToTensor(),\n",
    "])\n",
    "\n",
    "# Create an instance of your combined dataset\n",
    "combined_dataset = CombinedDataset(\n",
    "    transform=transform\n",
    ")\n",
    "\n",
    "# Function to display images with their combined labels\n",
    "def show_combined_images(dataset, num_images=5):\n",
    "    fig, axes = plt.subplots(1, num_images, figsize=(15, 3))\n",
    "    for i, ax in enumerate(axes):\n",
    "        img, label = dataset[i]\n",
    "        ax.imshow(img.permute(1, 2, 0))  # Convert from (C, H, W) to (H, W, C)\n",
    "        ax.axis('off')\n",
    "        ax.set_title(f'Label: {label}')\n",
    "    plt.show()\n",
    "\n",
    "# Display some images from the combined dataset\n",
    "show_combined_images(combined_dataset)\n",
    "\n",
    "# Create a DataLoader\n",
    "loader = DataLoader(combined_dataset, batch_size=32, shuffle=True)\n"
   ]
  },
  {
   "cell_type": "code",
   "execution_count": null,
   "id": "ab70a38c",
   "metadata": {},
   "outputs": [],
   "source": []
  }
 ],
 "metadata": {
  "kernelspec": {
   "display_name": "Python 3 (ipykernel)",
   "language": "python",
   "name": "python3"
  },
  "language_info": {
   "codemirror_mode": {
    "name": "ipython",
    "version": 3
   },
   "file_extension": ".py",
   "mimetype": "text/x-python",
   "name": "python",
   "nbconvert_exporter": "python",
   "pygments_lexer": "ipython3",
   "version": "3.11.5"
  }
 },
 "nbformat": 4,
 "nbformat_minor": 5
}
