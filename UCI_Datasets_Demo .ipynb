{
 "cells": [
  {
   "cell_type": "code",
   "execution_count": 2,
   "id": "905d0cc3",
   "metadata": {},
   "outputs": [
    {
     "data": {
      "text/plain": [
       "('UCI_Datasets/pageblocks.txt', <http.client.HTTPMessage at 0x164663fd0>)"
      ]
     },
     "execution_count": 2,
     "metadata": {},
     "output_type": "execute_result"
    }
   ],
   "source": [
    "import pandas as pd\n",
    "import urllib.request\n",
    "\n",
    "# URL to the Page Blocks dataset\n",
    "url = 'https://raw.githubusercontent.com/HC-Feynman/vpu/main/data/pageblocks.txt'\n",
    "\n",
    "# Download the dataset\n",
    "dataset_path = 'UCI_Datasets/pageblocks.txt'\n",
    "urllib.request.urlretrieve(url, dataset_path)"
   ]
  },
  {
   "cell_type": "code",
   "execution_count": null,
   "id": "f9cd5f70",
   "metadata": {},
   "outputs": [],
   "source": []
  }
 ],
 "metadata": {
  "kernelspec": {
   "display_name": "Python 3 (ipykernel)",
   "language": "python",
   "name": "python3"
  },
  "language_info": {
   "codemirror_mode": {
    "name": "ipython",
    "version": 3
   },
   "file_extension": ".py",
   "mimetype": "text/x-python",
   "name": "python",
   "nbconvert_exporter": "python",
   "pygments_lexer": "ipython3",
   "version": "3.11.5"
  }
 },
 "nbformat": 4,
 "nbformat_minor": 5
}
